{
 "cells": [
  {
   "cell_type": "code",
   "execution_count": 8,
   "id": "3fa37a96",
   "metadata": {},
   "outputs": [],
   "source": [
    "import numpy as np\n",
    "import pandas as pd\n",
    "import matplotlib.pyplot as plt\n",
    "import seaborn as sns\n",
    "\n",
    "from qiime2 import Artifact\n",
    "\n",
    "from skbio.diversity import beta_diversity, alpha_diversity\n",
    "from skbio.stats import distance, ordination\n",
    "\n",
    "from scipy.cluster import hierarchy\n",
    "from scipy.spatial import distance\n",
    "\n",
    "%matplotlib inline"
   ]
  },
  {
   "cell_type": "markdown",
   "id": "dc322be3",
   "metadata": {},
   "source": [
    "# Read in Data"
   ]
  },
  {
   "cell_type": "code",
   "execution_count": 3,
   "id": "2d2ce242",
   "metadata": {},
   "outputs": [],
   "source": [
    "metadata = pd.read_csv(\"../metadata/mapping.tsv\", sep=\"\\t\")\n",
    "\n",
    "metabo_metadata = metadata.set_index(\"MetaboSampleID\")"
   ]
  },
  {
   "cell_type": "markdown",
   "id": "1baa9de7",
   "metadata": {},
   "source": [
    "## Aqueous metabolome fraction"
   ]
  },
  {
   "cell_type": "code",
   "execution_count": 63,
   "id": "1292771a",
   "metadata": {},
   "outputs": [],
   "source": [
    "aqueous = pd.read_csv(\"../metabolome/Aqueous_Green_Tea_compounds_in_Plasma_020722.txt\",\n",
    "                      sep=\"\\t\", header=11, index_col=\"Compound\").T\n",
    "\n",
    "raw_indexes        = [x for x in list(aqueous.index) if (\"Log2(normalized)\" not in x)]\n",
    "normalized_indexes = [x for x in list(aqueous.index) if (\"(raw)\" not in x)]\n",
    "\n",
    "raw_aqueous = aqueous.loc[raw_indexes]\n",
    "log_aqueous = aqueous.loc[normalized_indexes]\n",
    "\n",
    "raw_aqueous.index = [int(x.split(\"SBAQ_\")[-1][:-5]) if (\"SBAQ_\" in x)\n",
    "                     else x \n",
    "                     for x in list(raw_aqueous.index)]\n",
    "\n",
    "log_aqueous.index = [int(x.split(\"SBAQ_\")[-1][:-18]) if (\"SBAQ_\" in x)\n",
    "                     else x \n",
    "                     for x in list(log_aqueous.index)]\n",
    "\n",
    "metabo_info_cols = ['Compound Name','Retention Time', 'Measured Retention Time', \n",
    "                    'Product Mass','QualifierMass', 'CASNumber', \n",
    "                    'CompoundType', 'ISTDCompoundName', 'Mass Column']\n",
    "\n",
    "raw_aqueous_samples = raw_aqueous.drop(metabo_info_cols).sort_index()\n",
    "log_aqueous_samples = log_aqueous.drop(metabo_info_cols).sort_index()"
   ]
  },
  {
   "cell_type": "markdown",
   "id": "4c942dd1",
   "metadata": {},
   "source": [
    "## Metabolome lipid fraction"
   ]
  },
  {
   "cell_type": "code",
   "execution_count": 64,
   "id": "805768e8",
   "metadata": {},
   "outputs": [],
   "source": [
    "lipid = pd.read_csv(\"../metabolome/Lipid_Green_Tea_compounds_in_Plasma_020722.txt\",\n",
    "                      sep=\"\\t\", header=11, index_col=\"Compound\").T\n",
    "lipid.head()\n",
    "\n",
    "raw_lipid_indexes =        [x for x in list(lipid.index) if (\"Log2(normalized)\" not in x)]\n",
    "normalized_lipid_indexes = [x for x in list(lipid.index) if (\"(raw)\" not in x)]\n",
    "\n",
    "raw_lipid = lipid.loc[raw_lipid_indexes]\n",
    "log_lipid = lipid.loc[normalized_lipid_indexes]\n",
    "\n",
    "raw_lipid.index = [int(x.split(\"Lipid_\")[-1][:-5]) if (\"Lipid_\" in x)\n",
    "                     else x \n",
    "                     for x in list(raw_lipid.index)]\n",
    "\n",
    "log_lipid.index = [int(x.split(\"Lipid_\")[-1][:-18]) if (\"Lipid\" in x)\n",
    "                     else x \n",
    "                     for x in list(log_lipid.index)]\n",
    "\n",
    "raw_lipid_samples = raw_lipid.drop(metabo_info_cols).sort_index()\n",
    "log_lipid_samples = log_lipid.drop(metabo_info_cols).sort_index()"
   ]
  },
  {
   "cell_type": "markdown",
   "id": "fe5e2c60",
   "metadata": {},
   "source": [
    "## Microbiome"
   ]
  },
  {
   "cell_type": "code",
   "execution_count": 6,
   "id": "4043a926",
   "metadata": {},
   "outputs": [],
   "source": [
    "microbiome = Artifact.load(\"../microbiome/tax_filtered_GT.qza\").view(pd.DataFrame)\n",
    "\n",
    "tax = Artifact.load(\"../microbiome/taxonomy_GT.qza\").view(pd.DataFrame)\n",
    "tax = tax.to_dict()[\"Taxon\"]\n",
    "microbiome.rename(columns=tax, inplace=True) # map OTUs to taxonomy name\n",
    "\n",
    "microbiome_mat = np.matrix(microbiome)\n",
    "microbiome_mat /= microbiome_mat.sum(axis=1) #convert to relative abundances\n",
    "\n",
    "microbiome = pd.DataFrame(microbiome_mat, columns=microbiome.columns, index=microbiome.index)"
   ]
  },
  {
   "cell_type": "markdown",
   "id": "c915653e",
   "metadata": {},
   "source": [
    "# Clustering"
   ]
  },
  {
   "cell_type": "code",
   "execution_count": 88,
   "id": "fea29ed0",
   "metadata": {},
   "outputs": [],
   "source": [
    "def plot_hierarchical_dendrogram(data, metric, linkage_method):\n",
    "    links = hierarchy.linkage(distance.pdist(data.astype(float), metric=metric),\n",
    "                              method=linkage_method)\n",
    "    hierarchy.dendrogram(links)\n",
    "    ax = plt.gca()\n",
    "    return ax"
   ]
  },
  {
   "cell_type": "code",
   "execution_count": 91,
   "id": "6861ad3b",
   "metadata": {},
   "outputs": [
    {
     "data": {
      "image/png": "[encoded data removed]",
      "text/plain": [
       "<Figure size 432x288 with 1 Axes>"
      ]
     },
     "metadata": {
      "needs_background": "light"
     },
     "output_type": "display_data"
    }
   ],
   "source": [
    "ax = plot_hierarchical_dendrogram(raw_aqueous_samples, metric=\"jaccard\", linkage_method=\"ward\")\n",
    "\n",
    "current_xticks = [tick.get_text() for tick in ax.get_xticklabels()]\n",
    "new_xticks = np.empty(len(current_xticks), dtype=\"str\")\n",
    "\n",
    "for i, sampleID in enumerate(current_xticks):\n",
    "    new_xticks[i] = \"Control\" if metabo_metadata.loc[int(sampleID)+1, \"PID\"]==\"Control\" else \"Humanized\"\n",
    "ax.set_xticklabels(new_xticks)\n",
    "\n",
    "plt.title('Dendrogram')\n",
    "plt.xlabel('')\n",
    "plt.ylabel('Jaccard distance')\n",
    "\n",
    "plt.show()"
   ]
  },
  {
   "cell_type": "code",
   "execution_count": 90,
   "id": "7db337d0",
   "metadata": {},
   "outputs": [
    {
     "data": {
      "image/png": "[encoded data removed]",
      "text/plain": [
       "<Figure size 432x288 with 1 Axes>"
      ]
     },
     "metadata": {
      "needs_background": "light"
     },
     "output_type": "display_data"
    }
   ],
   "source": [
    "ax = plot_hierarchical_dendrogram(raw_aqueous_samples, metric=\"braycurtis\", linkage_method=\"complete\")\n",
    "\n",
    "current_xticks = [tick.get_text() for tick in ax.get_xticklabels()]\n",
    "new_xticks = np.empty(len(current_xticks), dtype=\"str\")\n",
    "\n",
    "for i, sampleID in enumerate(current_xticks):\n",
    "    new_xticks[i] = \"Control\" if metabo_metadata.loc[int(sampleID)+1, \"PID\"]==\"Control\" else \"Humanized\"\n",
    "ax.set_xticklabels(new_xticks)\n",
    "\n",
    "plt.title('Dendrogram')\n",
    "plt.xlabel('')\n",
    "plt.ylabel('Bray-Curtis distance')\n",
    "\n",
    "plt.show()"
   ]
  },
  {
   "cell_type": "code",
   "execution_count": 101,
   "id": "fd378f19",
   "metadata": {},
   "outputs": [
    {
     "data": {
      "image/png": "[encoded data removed]",
      "text/plain": [
       "<Figure size 432x288 with 1 Axes>"
      ]
     },
     "metadata": {
      "needs_background": "light"
     },
     "output_type": "display_data"
    }
   ],
   "source": [
    "ax = plot_hierarchical_dendrogram(microbiome, metric=\"braycurtis\", linkage_method=\"ward\")\n",
    "\n",
    "current_xticks = [tick.get_text() for tick in ax.get_xticklabels()]\n",
    "new_xticks = np.empty(len(current_xticks), dtype=\"str\")\n",
    "\n",
    "for i, sampleID in enumerate(current_xticks):\n",
    "    new_xticks[i] = \"Control\" if metabo_metadata.iloc[int(sampleID)][\"PID\"]==\"Control\" else \"Humanized\"\n",
    "ax.set_xticklabels(new_xticks)\n",
    "\n",
    "plt.title('Microbiome Dendrogram')\n",
    "plt.xlabel('')\n",
    "plt.ylabel('Bray-Curtis distance')\n",
    "\n",
    "plt.show()"
   ]
  },
  {
   "cell_type": "code",
   "execution_count": null,
   "id": "36f9bffc",
   "metadata": {},
   "outputs": [],
   "source": []
  }
 ],
 "metadata": {
  "kernelspec": {
   "display_name": "Python 3 (ipykernel)",
   "language": "python",
   "name": "python3"
  },
  "language_info": {
   "codemirror_mode": {
    "name": "ipython",
    "version": 3
   },
   "file_extension": ".py",
   "mimetype": "text/x-python",
   "name": "python",
   "nbconvert_exporter": "python",
   "pygments_lexer": "ipython3",
   "version": "3.8.12"
  }
 },
 "nbformat": 4,
 "nbformat_minor": 5
}
