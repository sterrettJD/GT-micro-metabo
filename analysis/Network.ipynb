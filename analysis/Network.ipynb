{
 "cells": [
  {
   "cell_type": "code",
   "execution_count": 2,
   "id": "3f20b431",
   "metadata": {},
   "outputs": [],
   "source": [
    "import numpy as np\n",
    "import pandas as pd\n",
    "import matplotlib.pyplot as plt\n",
    "import seaborn as sns\n",
    "\n",
    "from qiime2 import Artifact\n",
    "\n",
    "from skbio.diversity import beta_diversity, alpha_diversity\n",
    "from skbio.stats import distance, ordination\n",
    "\n",
    "from scipy.cluster import hierarchy\n",
    "from scipy.spatial import distance\n",
    "\n",
    "%matplotlib inline"
   ]
  },
  {
   "cell_type": "markdown",
   "id": "95c895a5",
   "metadata": {},
   "source": [
    "# Read in Data"
   ]
  },
  {
   "cell_type": "code",
   "execution_count": 4,
   "id": "70a1df30",
   "metadata": {},
   "outputs": [],
   "source": [
    "metadata = pd.read_csv(\"../metadata/mapping.tsv\", sep=\"\\t\")\n",
    "\n",
    "metabo_metadata = metadata.set_index(\"MetaboSampleID\")\n",
    "\n"
   ]
  },
  {
   "cell_type": "markdown",
   "id": "470533c7",
   "metadata": {},
   "source": [
    "## Aqueous"
   ]
  },
  {
   "cell_type": "code",
   "execution_count": 5,
   "id": "3e600f8a",
   "metadata": {},
   "outputs": [],
   "source": [
    "aqueous = pd.read_csv(\"../metabolome/Aqueous_Green_Tea_compounds_in_Plasma_020722.txt\",\n",
    "                      sep=\"\\t\", header=11, index_col=\"Compound\").T\n",
    "\n",
    "raw_indexes        = [x for x in list(aqueous.index) if (\"Log2(normalized)\" not in x)]\n",
    "normalized_indexes = [x for x in list(aqueous.index) if (\"(raw)\" not in x)]\n",
    "\n",
    "raw_aqueous = aqueous.loc[raw_indexes]\n",
    "log_aqueous = aqueous.loc[normalized_indexes]\n",
    "\n",
    "raw_aqueous.index = [int(x.split(\"SBAQ_\")[-1][:-5]) if (\"SBAQ_\" in x)\n",
    "                     else x \n",
    "                     for x in list(raw_aqueous.index)]\n",
    "\n",
    "log_aqueous.index = [int(x.split(\"SBAQ_\")[-1][:-18]) if (\"SBAQ_\" in x)\n",
    "                     else x \n",
    "                     for x in list(log_aqueous.index)]\n",
    "\n",
    "metabo_info_cols = ['Compound Name','Retention Time', 'Measured Retention Time', \n",
    "                    'Product Mass','QualifierMass', 'CASNumber', \n",
    "                    'CompoundType', 'ISTDCompoundName', 'Mass Column']\n",
    "\n",
    "raw_aqueous_samples = raw_aqueous.drop(metabo_info_cols).sort_index()\n",
    "log_aqueous_samples = log_aqueous.drop(metabo_info_cols).sort_index()"
   ]
  },
  {
   "cell_type": "markdown",
   "id": "c78b5286",
   "metadata": {},
   "source": [
    "## Lipid"
   ]
  },
  {
   "cell_type": "code",
   "execution_count": 6,
   "id": "594ef476",
   "metadata": {},
   "outputs": [],
   "source": [
    "lipid = pd.read_csv(\"../metabolome/Lipid_Green_Tea_compounds_in_Plasma_020722.txt\",\n",
    "                      sep=\"\\t\", header=11, index_col=\"Compound\").T\n",
    "lipid.head()\n",
    "\n",
    "raw_lipid_indexes =        [x for x in list(lipid.index) if (\"Log2(normalized)\" not in x)]\n",
    "normalized_lipid_indexes = [x for x in list(lipid.index) if (\"(raw)\" not in x)]\n",
    "\n",
    "raw_lipid = lipid.loc[raw_lipid_indexes]\n",
    "log_lipid = lipid.loc[normalized_lipid_indexes]\n",
    "\n",
    "raw_lipid.index = [int(x.split(\"Lipid_\")[-1][:-5]) if (\"Lipid_\" in x)\n",
    "                     else x \n",
    "                     for x in list(raw_lipid.index)]\n",
    "\n",
    "log_lipid.index = [int(x.split(\"Lipid_\")[-1][:-18]) if (\"Lipid\" in x)\n",
    "                     else x \n",
    "                     for x in list(log_lipid.index)]\n",
    "\n",
    "raw_lipid_samples = raw_lipid.drop(metabo_info_cols).sort_index()\n",
    "log_lipid_samples = log_lipid.drop(metabo_info_cols).sort_index()"
   ]
  },
  {
   "cell_type": "markdown",
   "id": "d0a88451",
   "metadata": {},
   "source": [
    "## Microbiome"
   ]
  },
  {
   "cell_type": "code",
   "execution_count": 81,
   "id": "79c3a00a",
   "metadata": {},
   "outputs": [],
   "source": [
    "microbiome = Artifact.load(\"../microbiome/tax_filtered_GT.qza\").view(pd.DataFrame)\n",
    "\n",
    "tax = Artifact.load(\"../microbiome/taxonomy_GT.qza\").view(pd.DataFrame)\n",
    "tax = tax.to_dict()[\"Taxon\"]\n",
    "microbiome.rename(columns=tax, inplace=True) # map OTUs to taxonomy name\n",
    "\n",
    "microbiome_mat = np.matrix(microbiome)\n",
    "microbiome_mat /= microbiome_mat.sum(axis=1) #convert to relative abundances\n",
    "\n",
    "microbiome = pd.DataFrame(microbiome_mat, columns=microbiome.columns, index=microbiome.index)"
   ]
  },
  {
   "cell_type": "code",
   "execution_count": 82,
   "id": "344314fe",
   "metadata": {},
   "outputs": [],
   "source": [
    "microbiome_index_mapper = metadata.set_index(\"#SampleID\")[\"MetaboSampleID\"].to_dict()\n",
    "\n",
    "new_microbiome_index = [int(microbiome_index_mapper[x]) for x in list(microbiome.index)]\n",
    "microbiome.index = new_microbiome_index\n",
    "microbiome = microbiome.sort_index()"
   ]
  },
  {
   "cell_type": "markdown",
   "id": "29c5960c",
   "metadata": {},
   "source": [
    "# Presence/Absence correlation"
   ]
  },
  {
   "cell_type": "markdown",
   "id": "a41c5909",
   "metadata": {},
   "source": [
    "## Make presence/absence"
   ]
  },
  {
   "cell_type": "code",
   "execution_count": 84,
   "id": "80c073dc",
   "metadata": {},
   "outputs": [],
   "source": [
    "def make_presence_absence(x, threshold):\n",
    "    if x > threshold:\n",
    "        return 1\n",
    "    else:\n",
    "        return 0"
   ]
  },
  {
   "cell_type": "code",
   "execution_count": 85,
   "id": "83eddf53",
   "metadata": {},
   "outputs": [],
   "source": [
    "presence_aqueous_samples = pd.DataFrame(index = raw_aqueous_samples.index)\n",
    "presence_lipid_samples = pd.DataFrame(index = raw_lipid_samples.index)\n",
    "presence_microbiome = pd.DataFrame(index = microbiome.index, columns=microbiome.columns)\n",
    "\n",
    "for col in raw_aqueous_samples.columns:\n",
    "    presence_aqueous_samples[col] = raw_aqueous_samples[col].apply(lambda x: make_presence_absence(x, threshold=0.00001))\n",
    "    \n",
    "for col in raw_lipid_samples.columns:\n",
    "    presence_lipid_samples[col] = raw_lipid_samples[col].apply(lambda x: make_presence_absence(x, threshold=0.00001))\n",
    "\n",
    "for col in microbiome.columns:\n",
    "    presence_microbiome[col] = microbiome[col].apply(lambda x: -1 * (-x//1)) #ceiling division to convert to presence\n"
   ]
  },
  {
   "cell_type": "markdown",
   "id": "8da05409",
   "metadata": {},
   "source": [
    "## Correlation"
   ]
  },
  {
   "cell_type": "code",
   "execution_count": 70,
   "id": "6114cbec",
   "metadata": {},
   "outputs": [],
   "source": [
    "from scipy.stats import spearmanr"
   ]
  },
  {
   "cell_type": "code",
   "execution_count": 87,
   "id": "4a9bfc4d",
   "metadata": {},
   "outputs": [],
   "source": [
    "all_presence = pd.concat([presence_microbiome, presence_aqueous_samples, presence_lipid_samples], axis=1)"
   ]
  },
  {
   "cell_type": "code",
   "execution_count": 99,
   "id": "32ee7e77",
   "metadata": {},
   "outputs": [],
   "source": [
    "all_presence_corr = np.matrix(all_presence.corr(method=\"spearman\"))\n"
   ]
  },
  {
   "cell_type": "markdown",
   "id": "b2967455",
   "metadata": {},
   "source": [
    "## Network"
   ]
  },
  {
   "cell_type": "code",
   "execution_count": 92,
   "id": "b92f5368",
   "metadata": {},
   "outputs": [],
   "source": [
    "import networkx as nx"
   ]
  },
  {
   "cell_type": "code",
   "execution_count": 100,
   "id": "8ca492b9",
   "metadata": {},
   "outputs": [],
   "source": [
    "G = nx.from_numpy_matrix(all_presence_corr)"
   ]
  },
  {
   "cell_type": "code",
   "execution_count": null,
   "id": "0d9cf706",
   "metadata": {},
   "outputs": [],
   "source": []
  }
 ],
 "metadata": {
  "kernelspec": {
   "display_name": "Python 3 (ipykernel)",
   "language": "python",
   "name": "python3"
  },
  "language_info": {
   "codemirror_mode": {
    "name": "ipython",
    "version": 3
   },
   "file_extension": ".py",
   "mimetype": "text/x-python",
   "name": "python",
   "nbconvert_exporter": "python",
   "pygments_lexer": "ipython3",
   "version": "3.8.12"
  }
 },
 "nbformat": 4,
 "nbformat_minor": 5
}
